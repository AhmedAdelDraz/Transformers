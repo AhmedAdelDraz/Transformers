{
  "nbformat": 4,
  "nbformat_minor": 0,
  "metadata": {
    "colab": {
      "name": "04_MLPMixer_CONVMixer",
      "provenance": [],
      "collapsed_sections": [],
      "toc_visible": true
    },
    "kernelspec": {
      "display_name": "Python 3",
      "language": "python",
      "name": "python3"
    },
    "language_info": {
      "codemirror_mode": {
        "name": "ipython",
        "version": 3
      },
      "file_extension": ".py",
      "mimetype": "text/x-python",
      "name": "python",
      "nbconvert_exporter": "python",
      "pygments_lexer": "ipython3",
      "version": "3.7.0"
    },
    "accelerator": "GPU"
  },
  "cells": [
    {
      "cell_type": "markdown",
      "metadata": {
        "id": "7xUvWv8Lv7lB"
      },
      "source": [
        "<a href=\"https://colab.research.google.com/drive/1F1rtlQY0vZ9BVTtP7CuvyeBv2hEOpPTo?usp=sharing\" target=\"_parent\"><img src=\"https://colab.research.google.com/assets/colab-badge.svg\" alt=\"Open In Colab\"/></a>\n",
        "\n",
        "\n",
        "\n",
        "By [Ibrahim Sobh](https://www.linkedin.com/in/ibrahim-sobh-phd-8681757/)"
      ]
    },
    {
      "cell_type": "markdown",
      "metadata": {
        "id": "p1WyTv-jvDaN"
      },
      "source": [
        "# Image classification with MLP-Mixer and ConvMixer Hybrid models"
      ]
    },
    {
      "cell_type": "markdown",
      "metadata": {
        "id": "Wqj1yGIYvDaZ"
      },
      "source": [
        "## Setup and basic code"
      ]
    },
    {
      "cell_type": "code",
      "metadata": {
        "colab": {
          "base_uri": "https://localhost:8080/"
        },
        "id": "U3kYcVJDw-mj",
        "outputId": "6332af8a-d861-48f1-9ca0-ab9e78a0b734"
      },
      "source": [
        "!pip install -U tensorflow-addons"
      ],
      "execution_count": null,
      "outputs": [
        {
          "output_type": "stream",
          "name": "stdout",
          "text": [
            "Collecting tensorflow-addons\n",
            "  Downloading tensorflow_addons-0.14.0-cp37-cp37m-manylinux_2_12_x86_64.manylinux2010_x86_64.whl (1.1 MB)\n",
            "\u001b[K     |████████████████████████████████| 1.1 MB 5.3 MB/s \n",
            "\u001b[?25hRequirement already satisfied: typeguard>=2.7 in /usr/local/lib/python3.7/dist-packages (from tensorflow-addons) (2.7.1)\n",
            "Installing collected packages: tensorflow-addons\n",
            "Successfully installed tensorflow-addons-0.14.0\n"
          ]
        }
      ]
    },
    {
      "cell_type": "code",
      "metadata": {
        "id": "JFd19Y5NvDaa"
      },
      "source": [
        "import numpy as np\n",
        "import tensorflow as tf\n",
        "from tensorflow import keras\n",
        "from tensorflow.keras import layers\n",
        "import tensorflow_addons as tfa\n",
        "import matplotlib.pyplot as plt\n",
        "import cv2\n",
        "from google.colab.patches import cv2_imshow"
      ],
      "execution_count": null,
      "outputs": []
    },
    {
      "cell_type": "markdown",
      "metadata": {
        "id": "KnvHCYFivDad"
      },
      "source": [
        "### Data"
      ]
    },
    {
      "cell_type": "code",
      "metadata": {
        "id": "7OLwd4cTvDae",
        "colab": {
          "base_uri": "https://localhost:8080/"
        },
        "outputId": "59cbfa3c-7f95-4c52-94e6-d3d25a62ef36"
      },
      "source": [
        "num_classes = 10\n",
        "input_shape = (32, 32, 3)\n",
        "(x_train, y_train), (x_test, y_test) = keras.datasets.cifar10.load_data()\n",
        "print(f\"x_train shape: {x_train.shape} - y_train shape: {y_train.shape}\")\n",
        "print(f\"x_test shape: {x_test.shape} - y_test shape: {y_test.shape}\")"
      ],
      "execution_count": null,
      "outputs": [
        {
          "output_type": "stream",
          "name": "stdout",
          "text": [
            "Downloading data from https://www.cs.toronto.edu/~kriz/cifar-10-python.tar.gz\n",
            "170500096/170498071 [==============================] - 2s 0us/step\n",
            "170508288/170498071 [==============================] - 2s 0us/step\n",
            "x_train shape: (50000, 32, 32, 3) - y_train shape: (50000, 1)\n",
            "x_test shape: (10000, 32, 32, 3) - y_test shape: (10000, 1)\n"
          ]
        }
      ]
    },
    {
      "cell_type": "code",
      "metadata": {
        "id": "Kg6PmqYAraL3"
      },
      "source": [
        "# scale data\n",
        "x_train = x_train / 255.0\n",
        "x_test = x_test / 255.0"
      ],
      "execution_count": null,
      "outputs": []
    },
    {
      "cell_type": "markdown",
      "metadata": {
        "id": "o4mZxUE1vDaf"
      },
      "source": [
        "### Model"
      ]
    },
    {
      "cell_type": "code",
      "metadata": {
        "id": "kkwfHroLvDah",
        "colab": {
          "base_uri": "https://localhost:8080/"
        },
        "outputId": "f7af2e2b-2441-499e-b1db-3938b0d959c3"
      },
      "source": [
        "weight_decay = 0.0001\n",
        "batch_size = 128\n",
        "num_epochs = 50\n",
        "dropout_rate = 0.2\n",
        "image_size = 64 # resize input images to this size.\n",
        "patch_size = 4  # Size of the patches to be extracted from the input images.\n",
        "num_patches = (image_size // patch_size) ** 2  # Size of the data array.\n",
        "embedding_dim = 256  # Number of hidden units.\n",
        "num_blocks = 4  # Number of blocks.\n",
        "\n",
        "print(f\"Image size: {image_size} X {image_size} = {image_size ** 2}\")\n",
        "print(f\"Patch size: {patch_size} X {patch_size} = {patch_size ** 2} \")\n",
        "print(f\"Patches per image: {num_patches}\")\n",
        "print(f\"Elements per patch (3 channels): {(patch_size ** 2) * 3}\")"
      ],
      "execution_count": null,
      "outputs": [
        {
          "output_type": "stream",
          "name": "stdout",
          "text": [
            "Image size: 64 X 64 = 4096\n",
            "Patch size: 4 X 4 = 16 \n",
            "Patches per image: 256\n",
            "Elements per patch (3 channels): 48\n"
          ]
        }
      ]
    },
    {
      "cell_type": "code",
      "metadata": {
        "id": "e7FUcUvIvDaj"
      },
      "source": [
        "def build_classifier(blocks, positional_encoding=False):\n",
        "    inputs = layers.Input(shape=input_shape)\n",
        "    # Augment data.\n",
        "    augmented = data_augmentation(inputs)\n",
        "    # Create patches.\n",
        "    patches = Patches(patch_size, num_patches)(augmented)\n",
        "    # Encode patches to generate a [batch_size, num_patches, embedding_dim] tensor.\n",
        "    x = layers.Dense(units=embedding_dim)(patches)\n",
        "    if positional_encoding:\n",
        "      print(\"positional_encoding= \", positional_encoding)\n",
        "      positions = tf.range(start=0, limit=num_patches, delta=1)\n",
        "      position_embedding = layers.Embedding(\n",
        "          input_dim=num_patches, output_dim=embedding_dim #, trainable=True\n",
        "      )(positions)\n",
        "      x = x + position_embedding\n",
        "    # Process x using the module blocks.\n",
        "    x = blocks(x)\n",
        "    # Apply global average pooling to generate a [batch_size, embedding_dim] representation tensor.\n",
        "    representation = layers.GlobalAveragePooling1D()(x)\n",
        "    # Apply dropout.\n",
        "    representation = layers.Dropout(rate=dropout_rate)(representation)\n",
        "    # Compute logits outputs.\n",
        "    logits = layers.Dense(num_classes)(representation)\n",
        "    # Create the Keras model.\n",
        "    return keras.Model(inputs=inputs, outputs=logits)"
      ],
      "execution_count": null,
      "outputs": []
    },
    {
      "cell_type": "code",
      "metadata": {
        "id": "SfEp6XsRvDal"
      },
      "source": [
        "def run_experiment(model):\n",
        "    # Create Adam optimizer with weight decay.\n",
        "    optimizer = tfa.optimizers.AdamW(\n",
        "        learning_rate=learning_rate, weight_decay=weight_decay,\n",
        "    )\n",
        "    # Compile the model.\n",
        "    model.compile(\n",
        "        optimizer=optimizer,\n",
        "        loss=keras.losses.SparseCategoricalCrossentropy(from_logits=True),\n",
        "        metrics=[\n",
        "            keras.metrics.SparseCategoricalAccuracy(name=\"acc\")\n",
        "        ],\n",
        "    )\n",
        "    # Create a learning rate scheduler callback.\n",
        "    reduce_lr = keras.callbacks.ReduceLROnPlateau(\n",
        "        monitor=\"val_loss\", factor=0.5, patience=5\n",
        "    )\n",
        "    # Create an early stopping callback.\n",
        "    early_stopping = tf.keras.callbacks.EarlyStopping(\n",
        "        monitor=\"val_loss\", patience=10, restore_best_weights=True\n",
        "    )\n",
        "    # Fit the model.\n",
        "    history = model.fit(\n",
        "        x=x_train,\n",
        "        y=y_train,\n",
        "        batch_size=batch_size,\n",
        "        epochs=num_epochs,\n",
        "        validation_split=0.1,\n",
        "        callbacks=[early_stopping, reduce_lr],\n",
        "    )\n",
        "\n",
        "    _, accuracy = model.evaluate(x_test, y_test)\n",
        "    print(f\"Test accuracy: {round(accuracy * 100, 2)}%\")\n",
        "\n",
        "    # Return history to plot learning curves.\n",
        "    return history\n"
      ],
      "execution_count": null,
      "outputs": []
    },
    {
      "cell_type": "code",
      "metadata": {
        "id": "Ma3WOScDvDan"
      },
      "source": [
        "data_augmentation = keras.Sequential(\n",
        "    [\n",
        "        layers.Normalization(),\n",
        "        layers.Resizing(image_size, image_size),\n",
        "    ],\n",
        "    name=\"data_augmentation\",\n",
        ")\n",
        "# Compute the mean and the variance of the training data for normalization.\n",
        "data_augmentation.layers[0].adapt(x_train)"
      ],
      "execution_count": null,
      "outputs": []
    },
    {
      "cell_type": "code",
      "metadata": {
        "id": "U_7WDYdZvDao"
      },
      "source": [
        "# patch extraction as a layer\n",
        "class Patches(layers.Layer):\n",
        "    def __init__(self, patch_size, num_patches):\n",
        "        super(Patches, self).__init__()\n",
        "        self.patch_size = patch_size\n",
        "        self.num_patches = num_patches\n",
        "\n",
        "    def call(self, images):\n",
        "        batch_size = tf.shape(images)[0]\n",
        "        patches = tf.image.extract_patches(\n",
        "            images=images,\n",
        "            sizes=[1, self.patch_size, self.patch_size, 1],\n",
        "            strides=[1, self.patch_size, self.patch_size, 1],\n",
        "            rates=[1, 1, 1, 1],\n",
        "            padding=\"VALID\",\n",
        "        )\n",
        "        patch_dims = patches.shape[-1]\n",
        "        patches = tf.reshape(patches, [batch_size, self.num_patches, patch_dims])\n",
        "        return patches"
      ],
      "execution_count": null,
      "outputs": []
    },
    {
      "cell_type": "markdown",
      "metadata": {
        "id": "yCWi9-UbtZ1h"
      },
      "source": [
        "### Plot"
      ]
    },
    {
      "cell_type": "code",
      "metadata": {
        "id": "qEK1sY2Rtbxu"
      },
      "source": [
        "def plot_curves(history, lossname='loss', accname='acc'):\n",
        "    plt.figure(figsize=(10, 7))\n",
        "    plt.plot(history.history[lossname], label='Train')\n",
        "    plt.plot(history.history['val_' + lossname], label='Val')\n",
        "    plt.title('Learning curve')\n",
        "    plt.ylabel('Loss')\n",
        "    plt.xlabel('Epoch')\n",
        "    plt.grid()\n",
        "    plt.legend()\n",
        "    plt.show()\n",
        "    print()\n",
        "    plt.figure(figsize=(10, 7))\n",
        "    plt.plot(history.history[accname], label='Train')\n",
        "    plt.plot(history.history['val_' + accname], label='Val')\n",
        "    plt.title('Learning curve')\n",
        "    plt.ylabel('acc')\n",
        "    plt.xlabel('Epoch')\n",
        "    plt.grid()\n",
        "    plt.legend()\n",
        "    plt.show()\n",
        "    print()\n",
        "\n",
        "\n",
        "def print_exp_params():\n",
        "    print(\"num_epochs: \", num_epochs)\n",
        "    print(\"embedding_dim: \", embedding_dim)\n",
        "    print(\"batch_size: \", batch_size)\n",
        "    print(\"num_blocks: \", num_blocks)\n",
        "    print(\"dropout_rate: \", dropout_rate)\n",
        "    print(\"learning_rate: \", learning_rate)\n",
        "    print(\"-\"*30)"
      ],
      "execution_count": null,
      "outputs": []
    },
    {
      "cell_type": "markdown",
      "metadata": {
        "id": "7nLdHz8mvDap"
      },
      "source": [
        "## MLP-Mixer model\n",
        "\n",
        "Based on the paper [MLP-Mixer: An all-MLP Architecture for Vision](https://arxiv.org/abs/2105.01601), keras code [code](https://github.com/keras-team/keras-io/blob/master/examples/vision/mlp_image_classification.py)<br>\n",
        "\n",
        "- \"While convolutions and attention are both sufficient for good performance, neither of them is necessary!\"\n",
        "- \"Mixer is a competitive but conceptually and technically simple alternative, that does not use convolutions or self-attention\"\n",
        "- \"The idea behind the Mixer architecture is to clearly separate the per-location (channel-mixing) operations, and cross-location (token-mixing) operations. Both operations are implemented with MLPs\"\n",
        "- \"Mixer relies only on basic matrix multiplication routines, changes to data layout (reshapes and transpositions), and scalar nonlinearities.\"\n",
        "- \"The computational complexity of the network is linear in the number of input patches, unlike ViT whose complexity is quadratic\"\n",
        "- \"Each layer in Mixer takes an input of the same size. This “isotropic” design is most similar to Transformers\"\n",
        "- \"Unlike ViTs, Mixer does not use position embeddings because the token-mixing MLPs are sensitive to the order of the input tokens.\"\n",
        "\n",
        "The MLP-Mixer model tends to have much less number of parameters compared\n",
        "to convolutional and transformer-based models, which leads to less training and\n",
        "serving computational cost.\n",
        "\n",
        "https://keras.io/examples/vision/mlp_image_classification/#the-mlpmixer-model\n"
      ]
    },
    {
      "cell_type": "markdown",
      "metadata": {
        "id": "mLVA3xkqvDap"
      },
      "source": [
        "### The MLP-Mixer 1 block\n",
        "> If the input to the layer has a rank greater than 2, then Dense computes the dot product between the inputs and the kernel along the last axis of the inputs and axis 0 of the kernel (using tf.tensordot). \n",
        "- For example, if input has dimensions (batch_size, d0, d1), then we create a kernel with shape (d1, units), and the kernel operates along axis 2 of the input, on every sub-tensor of shape (1, 1, d1) (there are batch_size * d0 such sub-tensors). The output in this case will have shape (batch_size, d0, units).\n",
        "\n",
        " https://www.tensorflow.org/api_docs/python/tf/keras/layers/Dense"
      ]
    },
    {
      "cell_type": "code",
      "metadata": {
        "id": "inTh4-iRvDaq"
      },
      "source": [
        "# Original paper\n",
        "class MLPMixerLayer(layers.Layer):\n",
        "    def __init__(self, num_patches, hidden_units, dropout_rate, *args, **kwargs):\n",
        "        super(MLPMixerLayer, self).__init__(*args, **kwargs)\n",
        "\n",
        "        self.mlp1 = keras.Sequential(\n",
        "            [\n",
        "                layers.Dense(units=num_patches),\n",
        "                tfa.layers.GELU(),\n",
        "                layers.Dense(units=num_patches),\n",
        "                layers.Dropout(rate=dropout_rate),\n",
        "            ]\n",
        "        )\n",
        "        self.mlp2 = keras.Sequential(\n",
        "            [\n",
        "                layers.Dense(units=num_patches),\n",
        "                tfa.layers.GELU(),\n",
        "                layers.Dense(units=embedding_dim),\n",
        "                layers.Dropout(rate=dropout_rate),\n",
        "            ]\n",
        "        )\n",
        "        self.normalize = layers.LayerNormalization(epsilon=1e-6)\n",
        "\n",
        "    def call(self, inputs):\n",
        "        # Apply layer normalization.\n",
        "        x = self.normalize(inputs)\n",
        "        # Transpose inputs from [num_batches, num_patches, hidden_units] to [num_batches, hidden_units, num_patches].\n",
        "        x_channels = tf.linalg.matrix_transpose(x)\n",
        "        # Apply mlp1 on each channel independently.\n",
        "        mlp1_outputs = self.mlp1(x_channels)\n",
        "        # Transpose mlp1_outputs from [num_batches, hidden_dim, num_patches] to [num_batches, num_patches, hidden_units].\n",
        "        mlp1_outputs = tf.linalg.matrix_transpose(mlp1_outputs)\n",
        "        # Add skip connection.\n",
        "        x = mlp1_outputs + inputs\n",
        "        # Apply layer normalization.\n",
        "        x_patches = self.normalize(x)\n",
        "        # Apply mlp2 on each patch independtenly.\n",
        "        mlp2_outputs = self.mlp2(x_patches)\n",
        "        # Add skip connection.\n",
        "        x = x + mlp2_outputs\n",
        "        return x\n"
      ],
      "execution_count": null,
      "outputs": []
    },
    {
      "cell_type": "code",
      "metadata": {
        "colab": {
          "base_uri": "https://localhost:8080/"
        },
        "id": "0EvlyVRwtMc5",
        "outputId": "d4541ef6-2b3a-47cf-8bd7-6fcb9612d900"
      },
      "source": [
        "num_epochs = 50\n",
        "embedding_dim = 64\n",
        "batch_size = 128\n",
        "num_blocks = 1\n",
        "dropout_rate = 0.5\n",
        "mlpmixer_blocks = keras.Sequential([MLPMixerLayer(num_patches, embedding_dim, dropout_rate) for _ in range(num_blocks)])\n",
        "learning_rate = 0.005\n",
        "mlpmixer_classifier = build_classifier(mlpmixer_blocks)\n",
        "mlpmixer_classifier.summary()"
      ],
      "execution_count": null,
      "outputs": [
        {
          "output_type": "stream",
          "name": "stdout",
          "text": [
            "Model: \"model_14\"\n",
            "_________________________________________________________________\n",
            "Layer (type)                 Output Shape              Param #   \n",
            "=================================================================\n",
            "input_31 (InputLayer)        [(None, 32, 32, 3)]       0         \n",
            "_________________________________________________________________\n",
            "data_augmentation (Sequentia (None, 64, 64, 3)         7         \n",
            "_________________________________________________________________\n",
            "patches_30 (Patches)         (None, 256, 48)           0         \n",
            "_________________________________________________________________\n",
            "dense_180 (Dense)            (None, 256, 64)           3136      \n",
            "_________________________________________________________________\n",
            "sequential_116 (Sequential)  (None, 256, 64)           164800    \n",
            "_________________________________________________________________\n",
            "global_average_pooling1d_18  (None, 64)                0         \n",
            "_________________________________________________________________\n",
            "dropout_82 (Dropout)         (None, 64)                0         \n",
            "_________________________________________________________________\n",
            "dense_181 (Dense)            (None, 10)                650       \n",
            "=================================================================\n",
            "Total params: 168,593\n",
            "Trainable params: 168,586\n",
            "Non-trainable params: 7\n",
            "_________________________________________________________________\n"
          ]
        }
      ]
    },
    {
      "cell_type": "code",
      "metadata": {
        "colab": {
          "base_uri": "https://localhost:8080/"
        },
        "id": "MBSw7fxOtVbD",
        "outputId": "7d5a2789-188f-4d22-ed56-59107284ca9a"
      },
      "source": [
        "history = run_experiment(mlpmixer_classifier)"
      ],
      "execution_count": null,
      "outputs": [
        {
          "output_type": "stream",
          "name": "stdout",
          "text": [
            "Epoch 1/50\n",
            "352/352 [==============================] - 19s 50ms/step - loss: 1.8038 - acc: 0.3347 - val_loss: 1.5240 - val_acc: 0.4372\n",
            "Epoch 2/50\n",
            "352/352 [==============================] - 17s 49ms/step - loss: 1.5425 - acc: 0.4315 - val_loss: 1.8105 - val_acc: 0.4154\n",
            "Epoch 3/50\n",
            "352/352 [==============================] - 17s 48ms/step - loss: 1.4457 - acc: 0.4682 - val_loss: 1.4649 - val_acc: 0.4852\n",
            "Epoch 4/50\n",
            "352/352 [==============================] - 17s 48ms/step - loss: 1.3750 - acc: 0.4998 - val_loss: 1.4517 - val_acc: 0.5038\n",
            "Epoch 5/50\n",
            "352/352 [==============================] - 17s 49ms/step - loss: 1.3089 - acc: 0.5200 - val_loss: 1.6996 - val_acc: 0.4622\n",
            "Epoch 6/50\n",
            "352/352 [==============================] - 17s 49ms/step - loss: 1.2535 - acc: 0.5438 - val_loss: 1.5966 - val_acc: 0.4844\n",
            "Epoch 7/50\n",
            "352/352 [==============================] - 17s 48ms/step - loss: 1.1992 - acc: 0.5668 - val_loss: 1.5676 - val_acc: 0.5100\n",
            "Epoch 8/50\n",
            "352/352 [==============================] - 17s 48ms/step - loss: 1.1499 - acc: 0.5813 - val_loss: 1.7252 - val_acc: 0.4804\n",
            "Epoch 9/50\n",
            "352/352 [==============================] - 17s 49ms/step - loss: 1.1083 - acc: 0.5963 - val_loss: 1.5389 - val_acc: 0.5284\n",
            "Epoch 10/50\n",
            "352/352 [==============================] - 17s 47ms/step - loss: 0.9571 - acc: 0.6518 - val_loss: 1.5884 - val_acc: 0.5406\n",
            "Epoch 11/50\n",
            "352/352 [==============================] - 17s 49ms/step - loss: 0.9085 - acc: 0.6681 - val_loss: 1.7746 - val_acc: 0.5382\n",
            "Epoch 12/50\n",
            "352/352 [==============================] - 17s 49ms/step - loss: 0.8697 - acc: 0.6814 - val_loss: 1.9154 - val_acc: 0.5242\n",
            "Epoch 13/50\n",
            "352/352 [==============================] - 17s 49ms/step - loss: 0.8357 - acc: 0.6932 - val_loss: 1.9112 - val_acc: 0.5238\n",
            "Epoch 14/50\n",
            "352/352 [==============================] - 17s 49ms/step - loss: 0.8116 - acc: 0.7017 - val_loss: 2.0605 - val_acc: 0.5114\n",
            "313/313 [==============================] - 4s 12ms/step - loss: 1.4876 - acc: 0.4939\n",
            "Test accuracy: 49.39%\n"
          ]
        }
      ]
    },
    {
      "cell_type": "code",
      "metadata": {
        "colab": {
          "base_uri": "https://localhost:8080/",
          "height": 1000
        },
        "id": "C-ov6kyHjch7",
        "outputId": "f9b89100-2b20-4388-ab07-5b3e1a56f648"
      },
      "source": [
        "print_exp_params()\n",
        "plot_curves(history)"
      ],
      "execution_count": null,
      "outputs": [
        {
          "output_type": "stream",
          "name": "stdout",
          "text": [
            "num_epochs:  50\n",
            "embedding_dim:  64\n",
            "batch_size:  128\n",
            "num_blocks:  1\n",
            "dropout_rate:  0.5\n",
            "learning_rate:  0.005\n",
            "------------------------------\n"
          ]
        },
        {
          "output_type": "display_data",
          "data": {
            "image/png": "[encoded data removed]",
            "text/plain": [
              "<Figure size 720x504 with 1 Axes>"
            ]
          },
          "metadata": {
            "needs_background": "light"
          }
        },
        {
          "output_type": "stream",
          "name": "stdout",
          "text": [
            "\n"
          ]
        },
        {
          "output_type": "display_data",
          "data": {
            "image/png": "[encoded data removed]",
            "text/plain": [
              "<Figure size 720x504 with 1 Axes>"
            ]
          },
          "metadata": {
            "needs_background": "light"
          }
        },
        {
          "output_type": "stream",
          "name": "stdout",
          "text": [
            "\n"
          ]
        }
      ]
    },
    {
      "cell_type": "markdown",
      "metadata": {
        "id": "PK7W8edOXUYZ"
      },
      "source": [
        "## ConvMixer\n",
        "\n",
        "Based on the paper [Patches Are All You Need?](https://openreview.net/pdf?id=TVHS5Y4dNvM), keras code [code](https://github.com/tmp-iclr/convmixer/blob/main/convmixer.py)<br>\n",
        "\n",
        "> Is the performance of ViTs due to the inherently more powerful Transformer architecture, or is it at least partly due to using patches as the input representation.\n",
        "\n",
        "> ConvMixer, an extremely simple model that is similar in many aspects to the ViT and the even-more-basic MLP-Mixer\n",
        "\n",
        "> Despite its simplicity, ConvMixer outperforms the ViT, MLP-Mixer, and some of their variants for similar parameter counts and data set sizes, in addition to outperforming classical vision models such as the ResNet.\n",
        "\n",
        "> While self-attention and MLPs are theoretically more flexible, allowing for large receptive fields and content-aware behavior, the inductive bias of convolution is well-suited to vision tasks and leads to high data efficiency.\n",
        "\n",
        "> ConvMixers are substantially slower at inference than the competitors!"
      ]
    },
    {
      "cell_type": "markdown",
      "metadata": {
        "id": "9XDtHoIgUJnT"
      },
      "source": [
        "### ConvMixer 1 block"
      ]
    },
    {
      "cell_type": "code",
      "metadata": {
        "id": "DxNPFZ0LDKo0"
      },
      "source": [
        "# gelu + BatchNormalization\n",
        "def activation_block(x):\n",
        "    x = layers.Activation(\"gelu\")(x)\n",
        "    return layers.BatchNormalization()(x)\n",
        "\n",
        "# Patch embeddings (using CNN where: kernel_size=patch_size, strides=patch_size)\n",
        "# followed by gelu + BatchNormalization\n",
        "def conv_stem(x, filters: int, patch_size: int):\n",
        "    x = layers.Conv2D(filters, kernel_size=patch_size, strides=patch_size)(x)\n",
        "    return activation_block(x)\n",
        "\n",
        "# 1) DepthwiseConv2D and then (gelu + BatchNormalization) \n",
        "# 2) Skip connection \n",
        "# 3) Pointwise convolution and then (gelu + BatchNormalization)  \n",
        "def conv_mixer_block(x, filters: int, kernel_size: int):\n",
        "    # Depthwise convolution.\n",
        "    x0 = x\n",
        "    x = layers.DepthwiseConv2D(kernel_size=kernel_size, padding=\"same\")(x)\n",
        "    x = layers.Add()([activation_block(x), x0])  # Residual.\n",
        "\n",
        "    # Pointwise convolution.\n",
        "    x = layers.Conv2D(filters, kernel_size=1)(x)\n",
        "    x = activation_block(x)\n",
        "\n",
        "    return x\n",
        "\n",
        "# ConvMixer-h/d where:\n",
        "# h is the width or hidden dimension, \n",
        "# d is the depth or the number of repetitions of the ConvMixer layer\n",
        "def get_conv_mixer_h_d(\n",
        "    image_size=32, filters=256, depth=8, kernel_size=5, patch_size=2, num_classes=10\n",
        "):\n",
        "    \"\"\"ConvMixer-256/8: https://openreview.net/pdf?id=TVHS5Y4dNvM.\n",
        "    The hyperparameter values are taken from the paper.\n",
        "    \"\"\"\n",
        "    inputs = keras.Input((image_size, image_size, 3))\n",
        "    #x = layers.Rescaling(scale=1.0 / 255)(inputs) # data is scaled\n",
        "\n",
        "    # Extract patch embeddings.\n",
        "    x = conv_stem(inputs, filters, patch_size)\n",
        "\n",
        "    # ConvMixer blocks.\n",
        "    for _ in range(depth):\n",
        "        x = conv_mixer_block(x, filters, kernel_size)\n",
        "\n",
        "    # Classification block.\n",
        "    x = layers.GlobalAvgPool2D()(x)  # should be AdaptiveAvgPool2d?\n",
        "    outputs = layers.Dense(num_classes, activation=\"softmax\")(x)\n",
        "\n",
        "    return keras.Model(inputs, outputs)"
      ],
      "execution_count": null,
      "outputs": []
    },
    {
      "cell_type": "code",
      "metadata": {
        "id": "d6d0N5FHDO7Q"
      },
      "source": [
        "learning_rate = 0.001\n",
        "weight_decay = 0.0001\n",
        "batch_size = 128\n",
        "num_epochs = 10"
      ],
      "execution_count": null,
      "outputs": []
    },
    {
      "cell_type": "code",
      "metadata": {
        "id": "6nfu1Oa-DO-N"
      },
      "source": [
        "def run_experiment(model, from_logits=False):\n",
        "    # Create Adam optimizer with weight decay.\n",
        "    optimizer = tfa.optimizers.AdamW(\n",
        "        learning_rate=learning_rate, weight_decay=weight_decay,\n",
        "    )\n",
        "    # Compile the model.\n",
        "    model.compile(\n",
        "        optimizer=optimizer,\n",
        "        loss=keras.losses.SparseCategoricalCrossentropy(from_logits=False),\n",
        "        metrics=[\n",
        "            keras.metrics.SparseCategoricalAccuracy(name=\"acc\")\n",
        "        ],\n",
        "    )\n",
        "    # Create a learning rate scheduler callback.\n",
        "    reduce_lr = keras.callbacks.ReduceLROnPlateau(\n",
        "        monitor=\"val_loss\", factor=0.5, patience=5\n",
        "    )\n",
        "    # Create an early stopping callback.\n",
        "    early_stopping = tf.keras.callbacks.EarlyStopping(\n",
        "        monitor=\"val_loss\", patience=10, restore_best_weights=True\n",
        "    )\n",
        "    # Fit the model.\n",
        "    history = model.fit(\n",
        "        x=x_train,\n",
        "        y=y_train,\n",
        "        batch_size=batch_size,\n",
        "        epochs=num_epochs,\n",
        "        validation_split=0.1,\n",
        "        callbacks=[early_stopping, reduce_lr],\n",
        "    )\n",
        "\n",
        "    _, accuracy = model.evaluate(x_test, y_test)\n",
        "    print(f\"Test accuracy: {round(accuracy * 100, 2)}%\")\n",
        "\n",
        "    # Return history to plot learning curves.\n",
        "    return history"
      ],
      "execution_count": null,
      "outputs": []
    },
    {
      "cell_type": "code",
      "metadata": {
        "colab": {
          "base_uri": "https://localhost:8080/"
        },
        "id": "eiKuVJVGE-9o",
        "outputId": "d28aa913-1732-46b1-95c4-cca13b81bf8d"
      },
      "source": [
        "conv_mixer_model = get_conv_mixer_h_d(image_size=32, filters=16, depth=1, kernel_size=5, patch_size=2, num_classes=10)\n",
        "conv_mixer_model.summary()"
      ],
      "execution_count": null,
      "outputs": [
        {
          "output_type": "stream",
          "name": "stdout",
          "text": [
            "Model: \"model_33\"\n",
            "__________________________________________________________________________________________________\n",
            "Layer (type)                    Output Shape         Param #     Connected to                     \n",
            "==================================================================================================\n",
            "input_60 (InputLayer)           [(None, 32, 32, 3)]  0                                            \n",
            "__________________________________________________________________________________________________\n",
            "conv2d_81 (Conv2D)              (None, 16, 16, 16)   208         input_60[0][0]                   \n",
            "__________________________________________________________________________________________________\n",
            "activation_27 (Activation)      (None, 16, 16, 16)   0           conv2d_81[0][0]                  \n",
            "__________________________________________________________________________________________________\n",
            "batch_normalization_82 (BatchNo (None, 16, 16, 16)   64          activation_27[0][0]              \n",
            "__________________________________________________________________________________________________\n",
            "depthwise_conv2d_57 (DepthwiseC (None, 16, 16, 16)   416         batch_normalization_82[0][0]     \n",
            "__________________________________________________________________________________________________\n",
            "activation_28 (Activation)      (None, 16, 16, 16)   0           depthwise_conv2d_57[0][0]        \n",
            "__________________________________________________________________________________________________\n",
            "batch_normalization_83 (BatchNo (None, 16, 16, 16)   64          activation_28[0][0]              \n",
            "__________________________________________________________________________________________________\n",
            "add_57 (Add)                    (None, 16, 16, 16)   0           batch_normalization_83[0][0]     \n",
            "                                                                 batch_normalization_82[0][0]     \n",
            "__________________________________________________________________________________________________\n",
            "conv2d_82 (Conv2D)              (None, 16, 16, 16)   272         add_57[0][0]                     \n",
            "__________________________________________________________________________________________________\n",
            "activation_29 (Activation)      (None, 16, 16, 16)   0           conv2d_82[0][0]                  \n",
            "__________________________________________________________________________________________________\n",
            "batch_normalization_84 (BatchNo (None, 16, 16, 16)   64          activation_29[0][0]              \n",
            "__________________________________________________________________________________________________\n",
            "global_average_pooling2d_2 (Glo (None, 16)           0           batch_normalization_84[0][0]     \n",
            "__________________________________________________________________________________________________\n",
            "dense_246 (Dense)               (None, 10)           170         global_average_pooling2d_2[0][0] \n",
            "==================================================================================================\n",
            "Total params: 1,258\n",
            "Trainable params: 1,162\n",
            "Non-trainable params: 96\n",
            "__________________________________________________________________________________________________\n"
          ]
        }
      ]
    },
    {
      "cell_type": "code",
      "metadata": {
        "colab": {
          "base_uri": "https://localhost:8080/"
        },
        "id": "Ss00EH_uE_Ea",
        "outputId": "cf03ae97-a337-42e7-9d7c-8e90d344cb4b"
      },
      "source": [
        "num_epochs = 25\n",
        "history = run_experiment(conv_mixer_model)"
      ],
      "execution_count": null,
      "outputs": [
        {
          "output_type": "stream",
          "name": "stdout",
          "text": [
            "Epoch 1/25\n",
            "352/352 [==============================] - 6s 13ms/step - loss: 1.9899 - acc: 0.2785 - val_loss: 2.2899 - val_acc: 0.1322\n",
            "Epoch 2/25\n",
            "352/352 [==============================] - 4s 11ms/step - loss: 1.7765 - acc: 0.3526 - val_loss: 1.9426 - val_acc: 0.2894\n",
            "Epoch 3/25\n",
            "352/352 [==============================] - 4s 11ms/step - loss: 1.6997 - acc: 0.3806 - val_loss: 1.7555 - val_acc: 0.3498\n",
            "Epoch 4/25\n",
            "352/352 [==============================] - 4s 11ms/step - loss: 1.6415 - acc: 0.4046 - val_loss: 1.6910 - val_acc: 0.3786\n",
            "Epoch 5/25\n",
            "352/352 [==============================] - 4s 11ms/step - loss: 1.5980 - acc: 0.4233 - val_loss: 1.6169 - val_acc: 0.4002\n",
            "Epoch 6/25\n",
            "352/352 [==============================] - 4s 12ms/step - loss: 1.5587 - acc: 0.4439 - val_loss: 1.5827 - val_acc: 0.4128\n",
            "Epoch 7/25\n",
            "352/352 [==============================] - 4s 11ms/step - loss: 1.5252 - acc: 0.4553 - val_loss: 1.7459 - val_acc: 0.3864\n",
            "Epoch 8/25\n",
            "352/352 [==============================] - 4s 12ms/step - loss: 1.5009 - acc: 0.4631 - val_loss: 1.8364 - val_acc: 0.3650\n",
            "Epoch 9/25\n",
            "352/352 [==============================] - 4s 11ms/step - loss: 1.4815 - acc: 0.4702 - val_loss: 1.5180 - val_acc: 0.4564\n",
            "Epoch 10/25\n",
            "352/352 [==============================] - 4s 11ms/step - loss: 1.4648 - acc: 0.4761 - val_loss: 1.5350 - val_acc: 0.4590\n",
            "Epoch 11/25\n",
            "352/352 [==============================] - 4s 11ms/step - loss: 1.4472 - acc: 0.4800 - val_loss: 1.4873 - val_acc: 0.4616\n",
            "Epoch 12/25\n",
            "352/352 [==============================] - 4s 12ms/step - loss: 1.4330 - acc: 0.4842 - val_loss: 1.4789 - val_acc: 0.4736\n",
            "Epoch 13/25\n",
            "352/352 [==============================] - 4s 11ms/step - loss: 1.4197 - acc: 0.4926 - val_loss: 1.4433 - val_acc: 0.4770\n",
            "Epoch 14/25\n",
            "352/352 [==============================] - 4s 11ms/step - loss: 1.4101 - acc: 0.4954 - val_loss: 1.4365 - val_acc: 0.4842\n",
            "Epoch 15/25\n",
            "352/352 [==============================] - 4s 11ms/step - loss: 1.4022 - acc: 0.4964 - val_loss: 1.4252 - val_acc: 0.4870\n",
            "Epoch 16/25\n",
            "352/352 [==============================] - 4s 11ms/step - loss: 1.3957 - acc: 0.4992 - val_loss: 1.4515 - val_acc: 0.4820\n",
            "Epoch 17/25\n",
            "352/352 [==============================] - 4s 11ms/step - loss: 1.3864 - acc: 0.5012 - val_loss: 1.4254 - val_acc: 0.4894\n",
            "Epoch 18/25\n",
            "352/352 [==============================] - 4s 11ms/step - loss: 1.3802 - acc: 0.5041 - val_loss: 1.4670 - val_acc: 0.4624\n",
            "Epoch 19/25\n",
            "352/352 [==============================] - 4s 11ms/step - loss: 1.3743 - acc: 0.5071 - val_loss: 1.5159 - val_acc: 0.4370\n",
            "Epoch 20/25\n",
            "352/352 [==============================] - 4s 11ms/step - loss: 1.3693 - acc: 0.5097 - val_loss: 1.5256 - val_acc: 0.4318\n",
            "Epoch 21/25\n",
            "352/352 [==============================] - 4s 11ms/step - loss: 1.3627 - acc: 0.5131 - val_loss: 1.3796 - val_acc: 0.5116\n",
            "Epoch 22/25\n",
            "352/352 [==============================] - 4s 11ms/step - loss: 1.3646 - acc: 0.5120 - val_loss: 1.3695 - val_acc: 0.5176\n",
            "Epoch 23/25\n",
            "352/352 [==============================] - 4s 11ms/step - loss: 1.3664 - acc: 0.5108 - val_loss: 1.3934 - val_acc: 0.5028\n",
            "Epoch 24/25\n",
            "352/352 [==============================] - 4s 11ms/step - loss: 1.3691 - acc: 0.5104 - val_loss: 1.4021 - val_acc: 0.4960\n",
            "Epoch 25/25\n",
            "352/352 [==============================] - 4s 11ms/step - loss: 1.3696 - acc: 0.5127 - val_loss: 1.3830 - val_acc: 0.5062\n",
            "313/313 [==============================] - 1s 4ms/step - loss: 1.3966 - acc: 0.4936\n",
            "Test accuracy: 49.36%\n"
          ]
        }
      ]
    },
    {
      "cell_type": "code",
      "metadata": {
        "colab": {
          "base_uri": "https://localhost:8080/",
          "height": 933
        },
        "id": "Jm-1_gw-E_IH",
        "outputId": "031591d4-a44d-4f77-abb4-6449d1e5ed33"
      },
      "source": [
        "plot_curves(history)"
      ],
      "execution_count": null,
      "outputs": [
        {
          "output_type": "display_data",
          "data": {
            "image/png": "[encoded data removed]",
            "text/plain": [
              "<Figure size 720x504 with 1 Axes>"
            ]
          },
          "metadata": {
            "needs_background": "light"
          }
        },
        {
          "output_type": "stream",
          "name": "stdout",
          "text": [
            "\n"
          ]
        },
        {
          "output_type": "display_data",
          "data": {
            "image/png": "[encoded data removed]",
            "text/plain": [
              "<Figure size 720x504 with 1 Axes>"
            ]
          },
          "metadata": {
            "needs_background": "light"
          }
        },
        {
          "output_type": "stream",
          "name": "stdout",
          "text": [
            "\n"
          ]
        }
      ]
    },
    {
      "cell_type": "markdown",
      "metadata": {
        "id": "4ITE3Xtpb-RX"
      },
      "source": [
        "### Hybrid MLP-Mixer and ConvMixer "
      ]
    },
    {
      "cell_type": "code",
      "metadata": {
        "id": "X6RzvwiS2Tvn"
      },
      "source": [
        "def build_convmlpmixer_classifier():\n",
        "    inputs = layers.Input(shape=input_shape)\n",
        "    # Create patches.\n",
        "    patches = conv_stem(inputs, filters, patch_size)\n",
        "    \n",
        "    #------------------------------\n",
        "    # ConvMixer: 1 Block \n",
        "    #------------------------------\n",
        "    x0 = patches\n",
        "    x = layers.DepthwiseConv2D(kernel_size=kernel_size, padding=\"same\")(patches)\n",
        "    x = layers.Add()([activation_block(x), x0])  # Residual.\n",
        "    # Pointwise convolution.\n",
        "    x = layers.Conv2D(filters, kernel_size=1)(x)\n",
        "    x = activation_block(x)\n",
        "    \n",
        "    #------------------------------\n",
        "    # MLP Mixer: 1 Block \n",
        "    #------------------------------\n",
        "    x = layers.Reshape((16 * 16, embedding_dim))(x)\n",
        "    x = MLPMixerLayer(num_patches, embedding_dim, dropout_rate)(x)\n",
        "\n",
        "    #------------------------------\n",
        "    # Apply global average pooling\n",
        "    #------------------------------ \n",
        "    representation = layers.GlobalAveragePooling1D()(x)\n",
        "    \n",
        "    #------------------------------\n",
        "    # Softmax\n",
        "    #------------------------------ \n",
        "    outputs = layers.Dense(num_classes, activation=\"softmax\")(representation)\n",
        "    \n",
        "    # Create the Keras model.\n",
        "    return keras.Model(inputs=inputs, outputs=outputs)"
      ],
      "execution_count": null,
      "outputs": []
    },
    {
      "cell_type": "code",
      "metadata": {
        "colab": {
          "base_uri": "https://localhost:8080/"
        },
        "id": "Ien2_plWXbAE",
        "outputId": "6e36cd3b-37b3-472d-8e0c-cba5400e3226"
      },
      "source": [
        "# MLPMixer\n",
        "num_epochs = 50\n",
        "batch_size = 128\n",
        "embedding_dim = 16\n",
        "dropout_rate = 0.9\n",
        "learning_rate = 0.001\n",
        "weight_decay = 0.0001\n",
        "\n",
        "# ConvMixer\n",
        "filters = 16\n",
        "kernel_size = 5\n",
        "patch_size = 2\n",
        "\n",
        "mlpconv_classifier = build_convmlpmixer_classifier()\n",
        "mlpconv_classifier.summary()"
      ],
      "execution_count": null,
      "outputs": [
        {
          "output_type": "stream",
          "name": "stdout",
          "text": [
            "Model: \"model_41\"\n",
            "__________________________________________________________________________________________________\n",
            "Layer (type)                    Output Shape         Param #     Connected to                     \n",
            "==================================================================================================\n",
            "input_68 (InputLayer)           [(None, 32, 32, 3)]  0                                            \n",
            "__________________________________________________________________________________________________\n",
            "conv2d_98 (Conv2D)              (None, 16, 16, 16)   208         input_68[0][0]                   \n",
            "__________________________________________________________________________________________________\n",
            "activation_43 (Activation)      (None, 16, 16, 16)   0           conv2d_98[0][0]                  \n",
            "__________________________________________________________________________________________________\n",
            "batch_normalization_103 (BatchN (None, 16, 16, 16)   64          activation_43[0][0]              \n",
            "__________________________________________________________________________________________________\n",
            "depthwise_conv2d_66 (DepthwiseC (None, 16, 16, 16)   416         batch_normalization_103[0][0]    \n",
            "__________________________________________________________________________________________________\n",
            "activation_44 (Activation)      (None, 16, 16, 16)   0           depthwise_conv2d_66[0][0]        \n",
            "__________________________________________________________________________________________________\n",
            "batch_normalization_104 (BatchN (None, 16, 16, 16)   64          activation_44[0][0]              \n",
            "__________________________________________________________________________________________________\n",
            "add_66 (Add)                    (None, 16, 16, 16)   0           batch_normalization_104[0][0]    \n",
            "                                                                 batch_normalization_103[0][0]    \n",
            "__________________________________________________________________________________________________\n",
            "conv2d_99 (Conv2D)              (None, 16, 16, 16)   272         add_66[0][0]                     \n",
            "__________________________________________________________________________________________________\n",
            "activation_45 (Activation)      (None, 16, 16, 16)   0           conv2d_99[0][0]                  \n",
            "__________________________________________________________________________________________________\n",
            "batch_normalization_105 (BatchN (None, 16, 16, 16)   64          activation_45[0][0]              \n",
            "__________________________________________________________________________________________________\n",
            "reshape_53 (Reshape)            (None, 256, 16)      0           batch_normalization_105[0][0]    \n",
            "__________________________________________________________________________________________________\n",
            "mlp_mixer_layer_47 (MLPMixerLay (None, 256, 16)      140080      reshape_53[0][0]                 \n",
            "__________________________________________________________________________________________________\n",
            "global_average_pooling1d_38 (Gl (None, 16)           0           mlp_mixer_layer_47[0][0]         \n",
            "__________________________________________________________________________________________________\n",
            "dense_266 (Dense)               (None, 10)           170         global_average_pooling1d_38[0][0]\n",
            "==================================================================================================\n",
            "Total params: 141,338\n",
            "Trainable params: 141,242\n",
            "Non-trainable params: 96\n",
            "__________________________________________________________________________________________________\n"
          ]
        }
      ]
    },
    {
      "cell_type": "code",
      "metadata": {
        "colab": {
          "base_uri": "https://localhost:8080/"
        },
        "id": "25InAnAVcJgG",
        "outputId": "aa888077-9387-46a5-d31e-c2d7870e098c"
      },
      "source": [
        "history = run_experiment(mlpconv_classifier)"
      ],
      "execution_count": null,
      "outputs": [
        {
          "output_type": "stream",
          "name": "stdout",
          "text": [
            "Epoch 1/50\n",
            "352/352 [==============================] - 16s 39ms/step - loss: 1.8110 - acc: 0.3320 - val_loss: 4.7709 - val_acc: 0.1480\n",
            "Epoch 2/50\n",
            "352/352 [==============================] - 13s 37ms/step - loss: 1.5244 - acc: 0.4421 - val_loss: 1.6364 - val_acc: 0.4164\n",
            "Epoch 3/50\n",
            "352/352 [==============================] - 13s 37ms/step - loss: 1.4522 - acc: 0.4690 - val_loss: 1.5365 - val_acc: 0.4466\n",
            "Epoch 4/50\n",
            "352/352 [==============================] - 13s 37ms/step - loss: 1.3927 - acc: 0.4915 - val_loss: 1.4739 - val_acc: 0.4736\n",
            "Epoch 5/50\n",
            "352/352 [==============================] - 13s 38ms/step - loss: 1.3532 - acc: 0.5057 - val_loss: 1.4146 - val_acc: 0.4830\n",
            "Epoch 6/50\n",
            "352/352 [==============================] - 13s 37ms/step - loss: 1.3189 - acc: 0.5204 - val_loss: 1.5187 - val_acc: 0.4584\n",
            "Epoch 7/50\n",
            "352/352 [==============================] - 13s 37ms/step - loss: 1.2943 - acc: 0.5291 - val_loss: 1.3913 - val_acc: 0.5104\n",
            "Epoch 8/50\n",
            "352/352 [==============================] - 13s 37ms/step - loss: 1.2661 - acc: 0.5394 - val_loss: 1.3493 - val_acc: 0.5132\n",
            "Epoch 9/50\n",
            "352/352 [==============================] - 13s 38ms/step - loss: 1.2467 - acc: 0.5478 - val_loss: 1.3506 - val_acc: 0.5194\n",
            "Epoch 10/50\n",
            "352/352 [==============================] - 13s 37ms/step - loss: 1.2240 - acc: 0.5534 - val_loss: 1.3643 - val_acc: 0.5198\n",
            "Epoch 11/50\n",
            "352/352 [==============================] - 13s 38ms/step - loss: 1.1976 - acc: 0.5652 - val_loss: 1.4389 - val_acc: 0.4896\n",
            "Epoch 12/50\n",
            "352/352 [==============================] - 13s 38ms/step - loss: 1.1754 - acc: 0.5743 - val_loss: 1.4324 - val_acc: 0.4954\n",
            "Epoch 13/50\n",
            "352/352 [==============================] - 13s 38ms/step - loss: 1.1563 - acc: 0.5801 - val_loss: 1.4041 - val_acc: 0.5118\n",
            "Epoch 14/50\n",
            "352/352 [==============================] - 13s 37ms/step - loss: 1.1050 - acc: 0.6002 - val_loss: 1.3715 - val_acc: 0.5246\n",
            "Epoch 15/50\n",
            "352/352 [==============================] - 13s 37ms/step - loss: 1.0953 - acc: 0.6027 - val_loss: 1.4123 - val_acc: 0.5198\n",
            "Epoch 16/50\n",
            "352/352 [==============================] - 13s 37ms/step - loss: 1.0817 - acc: 0.6100 - val_loss: 1.4352 - val_acc: 0.5238\n",
            "Epoch 17/50\n",
            "352/352 [==============================] - 13s 37ms/step - loss: 1.0747 - acc: 0.6130 - val_loss: 1.4833 - val_acc: 0.5152\n",
            "Epoch 18/50\n",
            "352/352 [==============================] - 13s 37ms/step - loss: 1.0667 - acc: 0.6147 - val_loss: 1.4817 - val_acc: 0.5142\n",
            "313/313 [==============================] - 3s 9ms/step - loss: 1.3555 - acc: 0.5191\n",
            "Test accuracy: 51.91%\n"
          ]
        }
      ]
    },
    {
      "cell_type": "code",
      "metadata": {
        "colab": {
          "base_uri": "https://localhost:8080/",
          "height": 933
        },
        "id": "LW5jJ-rCS8Tt",
        "outputId": "97564076-7cb0-4f08-ed40-1cb14789c76e"
      },
      "source": [
        "plot_curves(history)"
      ],
      "execution_count": null,
      "outputs": [
        {
          "output_type": "display_data",
          "data": {
            "image/png": "[encoded data removed]",
            "text/plain": [
              "<Figure size 720x504 with 1 Axes>"
            ]
          },
          "metadata": {
            "needs_background": "light"
          }
        },
        {
          "output_type": "stream",
          "name": "stdout",
          "text": [
            "\n"
          ]
        },
        {
          "output_type": "display_data",
          "data": {
            "image/png": "[encoded data removed]",
            "text/plain": [
              "<Figure size 720x504 with 1 Axes>"
            ]
          },
          "metadata": {
            "needs_background": "light"
          }
        },
        {
          "output_type": "stream",
          "name": "stdout",
          "text": [
            "\n"
          ]
        }
      ]
    }
  ]
}